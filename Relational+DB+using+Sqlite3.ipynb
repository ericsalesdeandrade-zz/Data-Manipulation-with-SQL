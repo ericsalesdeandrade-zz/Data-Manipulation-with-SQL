{
 "cells": [
  {
   "cell_type": "markdown",
   "metadata": {},
   "source": [
    "# Creating relations between Databases using SQLite3  using the Academy Awards dataset\n",
    "\n",
    "This is a simple project to get started with creating one to many and many to many relations using Sqlite3 which a lightweight \n",
    "SQL library built into Python.\n",
    "\n",
    "We will use the nominations.db (already created) database which contains the data found from here (https://www.aggdata.com/awards/oscar)"
   ]
  },
  {
   "cell_type": "code",
   "execution_count": 63,
   "metadata": {
    "collapsed": true
   },
   "outputs": [],
   "source": [
    "import sqlite3\n",
    "conn = sqlite3.connect(\"nominations.db\")"
   ]
  },
  {
   "cell_type": "markdown",
   "metadata": {},
   "source": [
    "# Exploring the data"
   ]
  },
  {
   "cell_type": "code",
   "execution_count": 64,
   "metadata": {
    "collapsed": false
   },
   "outputs": [
    {
     "name": "stdout",
     "output_type": "stream",
     "text": [
      "(0, 'Year', 'INTEGER', 0, None, 0)\n",
      "(1, 'Category', 'TEXT', 0, None, 0)\n",
      "(2, 'Nominee', 'TEXT', 0, None, 0)\n",
      "(3, 'Won', 'INTEGER', 0, None, 0)\n",
      "(4, 'Movie', 'TEXT', 0, None, 0)\n",
      "(5, 'Character', 'TEXT', 0, None, 0)\n",
      "(2010, 'Actor -- Leading Role', 'Javier Bardem', 0, 'Biutiful', 'Uxbal')\n",
      "(2010, 'Actor -- Leading Role', 'Jeff Bridges', 0, 'True Grit', 'Rooster Cogburn')\n",
      "(2010, 'Actor -- Leading Role', 'Jesse Eisenberg', 0, 'The Social Network', 'Mark Zuckerberg')\n",
      "(2010, 'Actor -- Leading Role', 'Colin Firth', 1, \"The King's Speech\", 'King George VI')\n",
      "(2010, 'Actor -- Leading Role', 'James Franco', 0, '127 Hours', 'Aron Ralston')\n",
      "(2010, 'Actor -- Supporting Role', 'Christian Bale', 1, 'The Fighter', 'Dicky Eklund')\n",
      "(2010, 'Actor -- Supporting Role', 'John Hawkes', 0, \"Winter's Bone\", 'Teardrop')\n",
      "(2010, 'Actor -- Supporting Role', 'Jeremy Renner', 0, 'The Town', 'James Coughlin')\n",
      "(2010, 'Actor -- Supporting Role', 'Mark Ruffalo', 0, 'The Kids Are All Right', 'Paul')\n",
      "(2010, 'Actor -- Supporting Role', 'Geoffrey Rush', 0, \"The King's Speech\", 'Lionel Logue')\n"
     ]
    }
   ],
   "source": [
    "schema = conn.execute(\"PRAGMA table_info(nominations);\").fetchall()\n",
    "first_ten = conn.execute(\"SELECT * FROM nominations LIMIT 10;\").fetchall()\n",
    "for data in schema:\n",
    "    print(data)\n",
    "for data_ in first_ten:\n",
    "    print(data_)"
   ]
  },
  {
   "cell_type": "markdown",
   "metadata": {},
   "source": [
    "We will create a new table called ceremonies which contains the Year and Host data. This is to avoid redundancy by\n",
    "adding these columns to the nominations table. But first lets find the host and year information."
   ]
  },
  {
   "cell_type": "markdown",
   "metadata": {},
   "source": [
    "# Creating and populating new \"Ceremonies\" table."
   ]
  },
  {
   "cell_type": "code",
   "execution_count": 34,
   "metadata": {
    "collapsed": false
   },
   "outputs": [
    {
     "ename": "OperationalError",
     "evalue": "table ceremonies already exists",
     "output_type": "error",
     "traceback": [
      "\u001b[0;31m---------------------------------------------------------------------------\u001b[0m",
      "\u001b[0;31mOperationalError\u001b[0m                          Traceback (most recent call last)",
      "\u001b[0;32m<ipython-input-34-b242399a84a9>\u001b[0m in \u001b[0;36m<module>\u001b[0;34m()\u001b[0m\n\u001b[1;32m     12\u001b[0m             ]\n\u001b[1;32m     13\u001b[0m \u001b[0mcreate_ceremonies\u001b[0m \u001b[1;33m=\u001b[0m \u001b[1;34m\"CREATE TABLE ceremonies (Id INTEGER PRIMARY KEY,YEAR INTEGER,Host TEXT);\"\u001b[0m\u001b[1;33m\u001b[0m\u001b[0m\n\u001b[0;32m---> 14\u001b[0;31m \u001b[0mconn\u001b[0m\u001b[1;33m.\u001b[0m\u001b[0mexecute\u001b[0m\u001b[1;33m(\u001b[0m\u001b[0mcreate_ceremonies\u001b[0m\u001b[1;33m)\u001b[0m\u001b[1;33m\u001b[0m\u001b[0m\n\u001b[0m\u001b[1;32m     15\u001b[0m \u001b[0minsert_query\u001b[0m \u001b[1;33m=\u001b[0m \u001b[1;34m\"INSERT INTO ceremonies (Year,Host) VALUES (?,?);\"\u001b[0m\u001b[1;33m\u001b[0m\u001b[0m\n\u001b[1;32m     16\u001b[0m \u001b[0mconnn\u001b[0m\u001b[1;33m.\u001b[0m\u001b[0mexecutemany\u001b[0m\u001b[1;33m(\u001b[0m\u001b[0minsert_query\u001b[0m\u001b[1;33m,\u001b[0m\u001b[0myears_hosts\u001b[0m\u001b[1;33m)\u001b[0m\u001b[1;33m\u001b[0m\u001b[0m\n",
      "\u001b[0;31mOperationalError\u001b[0m: table ceremonies already exists"
     ]
    }
   ],
   "source": [
    "years_hosts = [(2010, \"Steve Martin\"),\n",
    "               (2009, \"Hugh Jackman\"),\n",
    "               (2008, \"Jon Stewart\"),\n",
    "               (2007, \"Ellen DeGeneres\"),\n",
    "               (2006, \"Jon Stewart\"),\n",
    "               (2005, \"Chris Rock\"),\n",
    "               (2004, \"Billy Crystal\"),\n",
    "               (2003, \"Steve Martin\"),\n",
    "               (2002, \"Whoopi Goldberg\"),\n",
    "               (2001, \"Steve Martin\"),\n",
    "               (2000, \"Billy Crystal\"),\n",
    "            ]\n",
    "create_ceremonies = \"CREATE TABLE ceremonies (Id INTEGER PRIMARY KEY,YEAR INTEGER,Host TEXT);\"\n",
    "conn.execute(create_ceremonies)\n",
    "insert_query = \"INSERT INTO ceremonies (Year,Host) VALUES (?,?);\"\n",
    "connn.executemany(insert_query,years_hosts)"
   ]
  },
  {
   "cell_type": "markdown",
   "metadata": {},
   "source": [
    "We will ignore the above error"
   ]
  },
  {
   "cell_type": "code",
   "execution_count": 35,
   "metadata": {
    "collapsed": false
   },
   "outputs": [
    {
     "name": "stdout",
     "output_type": "stream",
     "text": [
      "[(1, 2010, 'Steve Martin'), (2, 2009, 'Hugh Jackman'), (3, 2008, 'Jon Stewart'), (4, 2007, 'Ellen DeGeneres'), (5, 2006, 'Jon Stewart'), (6, 2005, 'Chris Rock'), (7, 2004, 'Billy Crystal'), (8, 2003, 'Steve Martin'), (9, 2002, 'Whoopi Goldberg'), (10, 2001, 'Steve Martin')]\n",
      "[(0, 'id', 'integer', 0, None, 1), (1, 'Year', 'integer', 0, None, 0), (2, 'Host', 'text', 0, None, 0)]\n"
     ]
    }
   ],
   "source": [
    "print(conn.execute(\"SELECT * FROM ceremonies LIMIT 10;\").fetchall())\n",
    "print(conn.execute(\"PRAGMA table_info(ceremonies);\").fetchall())"
   ]
  },
  {
   "cell_type": "markdown",
   "metadata": {},
   "source": [
    "We can now see the Ceremonies table containing the Year and Host info. Now we will attempt to link this table \n",
    "to the nomination table by using Foreign Keys."
   ]
  },
  {
   "cell_type": "code",
   "execution_count": 36,
   "metadata": {
    "collapsed": false
   },
   "outputs": [
    {
     "data": {
      "text/plain": [
       "<sqlite3.Cursor at 0x219a034e7a0>"
      ]
     },
     "execution_count": 36,
     "metadata": {},
     "output_type": "execute_result"
    }
   ],
   "source": [
    "conn.execute(\"PRAGMA foreign_keys = ON;\") #Turning on foreign key constraints"
   ]
  },
  {
   "cell_type": "markdown",
   "metadata": {},
   "source": [
    "We need to delete the \"Year\" column from the nominations table. Unfortunately SQLite does not allow us to delete a column.\n",
    "Instead we will do the following;\n",
    "- Create a new table \"nominations_two\" with the schema we want.\n",
    "- Populate nominations_two with the records we want.\n",
    "- Delete the original nominations table.\n",
    "- Rename nominations_two to nominations.\n",
    "\n",
    "\"nominations_two\" will contain ID, category,nominee,movie,character,won, ceremony_id (as a foreign key to id column from ceremonies table).\n",
    "\n",
    "We will also retrieve all the data from nominations table and store it in joined_nominations."
   ]
  },
  {
   "cell_type": "markdown",
   "metadata": {},
   "source": [
    "# Create \"nominations_two\" table and copy the data from nominations to nominations_two"
   ]
  },
  {
   "cell_type": "code",
   "execution_count": 37,
   "metadata": {
    "collapsed": false
   },
   "outputs": [
    {
     "ename": "OperationalError",
     "evalue": "table nominations_two already exists",
     "output_type": "error",
     "traceback": [
      "\u001b[0;31m---------------------------------------------------------------------------\u001b[0m",
      "\u001b[0;31mOperationalError\u001b[0m                          Traceback (most recent call last)",
      "\u001b[0;32m<ipython-input-37-cc4bfc2bf924>\u001b[0m in \u001b[0;36m<module>\u001b[0;34m()\u001b[0m\n\u001b[1;32m      1\u001b[0m \u001b[0mcreate_nominations_two\u001b[0m \u001b[1;33m=\u001b[0m \u001b[1;34m\"CREATE TABLE nominations_two (Id INTEGER PRIMARY KEY,Category TEXT,Nominee TEXT,Movie TEXT,Character TEXT,Won TEXT,Ceremony_id INTEGER,FOREIGN KEY (Ceremony_id) REFERENCES Ceremonies(Id));\"\u001b[0m\u001b[1;33m\u001b[0m\u001b[0m\n\u001b[0;32m----> 2\u001b[0;31m \u001b[0mconn\u001b[0m\u001b[1;33m.\u001b[0m\u001b[0mexecute\u001b[0m\u001b[1;33m(\u001b[0m\u001b[0mcreate_nominations_two\u001b[0m\u001b[1;33m)\u001b[0m\u001b[1;33m\u001b[0m\u001b[0m\n\u001b[0m",
      "\u001b[0;31mOperationalError\u001b[0m: table nominations_two already exists"
     ]
    }
   ],
   "source": [
    "create_nominations_two = \"CREATE TABLE nominations_two (Id INTEGER PRIMARY KEY,Category TEXT,Nominee TEXT,Movie TEXT,Character TEXT,Won TEXT,Ceremony_id INTEGER,FOREIGN KEY (Ceremony_id) REFERENCES Ceremonies(Id));\"\n",
    "conn.execute(create_nominations_two)\n"
   ]
  },
  {
   "cell_type": "code",
   "execution_count": 42,
   "metadata": {
    "collapsed": false
   },
   "outputs": [],
   "source": [
    "data_nominations = \"SELECT ceremonies.id as ceremony_id,nominations.Category,nominations.Nominee,nominations.Movie,nominations.Character,nominations.Won FROM nominations INNER JOIN ceremonies ON nominations.Year == ceremonies.year;\"\n",
    "joined_nominations = conn.execute(data_nominations).fetchall()"
   ]
  },
  {
   "cell_type": "code",
   "execution_count": 43,
   "metadata": {
    "collapsed": false
   },
   "outputs": [
    {
     "name": "stdout",
     "output_type": "stream",
     "text": [
      "[(1, 'Actor -- Leading Role', 'Javier Bardem', 'Biutiful', 'Uxbal', '0', 1), (2, 'Actor -- Leading Role', 'Jeff Bridges', 'True Grit', 'Rooster Cogburn', '0', 1), (3, 'Actor -- Leading Role', 'Jesse Eisenberg', 'The Social Network', 'Mark Zuckerberg', '0', 1), (4, 'Actor -- Leading Role', 'Colin Firth', \"The King's Speech\", 'King George VI', '1', 1), (5, 'Actor -- Leading Role', 'James Franco', '127 Hours', 'Aron Ralston', '0', 1)]\n"
     ]
    }
   ],
   "source": [
    "insert_query_nominations_two = \"INSERT INTO nominations_two (ceremony_id,Category,Nominee,Movie,Character,Won) VALUES (?,?,?,?,?,?);\"\n",
    "conn.executemany(insert_query_nominations_two,joined_nominations)\n",
    "print(conn.execute(\"SELECT * FROM nominations_two LIMIT 5\").fetchall())"
   ]
  },
  {
   "cell_type": "markdown",
   "metadata": {},
   "source": [
    "We can now see that the data from nominations has been passed into nomination_two along with the foreign key column\n",
    "ceremony_id which links to ceremonies_table. We will now delete the nominations table and rename nominations_two to nominations."
   ]
  },
  {
   "cell_type": "markdown",
   "metadata": {},
   "source": [
    "# Deleting \"nominations\" table and renaming \"nominations_two\" to \"nominations\""
   ]
  },
  {
   "cell_type": "code",
   "execution_count": 44,
   "metadata": {
    "collapsed": false
   },
   "outputs": [
    {
     "data": {
      "text/plain": [
       "<sqlite3.Cursor at 0x219a034edc0>"
      ]
     },
     "execution_count": 44,
     "metadata": {},
     "output_type": "execute_result"
    }
   ],
   "source": [
    "delete_nominations = \"DROP TABLE nominations;\"\n",
    "conn.execute(delete_nominations)\n",
    "rename_nominations_two = \"ALTER TABLE nominations_two RENAME to nominations\"\n",
    "conn.execute(rename_nominations_two)"
   ]
  },
  {
   "cell_type": "markdown",
   "metadata": {},
   "source": [
    "# Creating 3 new tables for a Many-Many relation type normalization.\n",
    "- Movies Table\n",
    "- Actors Table\n",
    "- Movies_Actors Table"
   ]
  },
  {
   "cell_type": "code",
   "execution_count": 45,
   "metadata": {
    "collapsed": false
   },
   "outputs": [
    {
     "data": {
      "text/plain": [
       "<sqlite3.Cursor at 0x219a036f1f0>"
      ]
     },
     "execution_count": 45,
     "metadata": {},
     "output_type": "execute_result"
    }
   ],
   "source": [
    "create_movies = \"CREATE TABLE movies (Id INTEGER PRIMARY KEY,Movies TEXT);\"\n",
    "conn.execute(create_movies)\n",
    "create_actors = \"CREATE TABLE actors (Id INTEGER PRIMARY KEY,Actor TEXT);\"\n",
    "conn.execute(create_actors)\n"
   ]
  },
  {
   "cell_type": "code",
   "execution_count": 46,
   "metadata": {
    "collapsed": false
   },
   "outputs": [
    {
     "data": {
      "text/plain": [
       "<sqlite3.Cursor at 0x219a036f5e0>"
      ]
     },
     "execution_count": 46,
     "metadata": {},
     "output_type": "execute_result"
    }
   ],
   "source": [
    "create_movies_actors = \"CREATE TABLE movies_actors (Id INTEGER PRIMARY KEY,movie_Id INTEGER REFERENCES movies(Id),actor_id INTEGER REFERENCES actors(Id));\"\n",
    "conn.execute(create_movies_actors)"
   ]
  },
  {
   "cell_type": "markdown",
   "metadata": {},
   "source": [
    "# Populating the Movies and Actors tables"
   ]
  },
  {
   "cell_type": "code",
   "execution_count": 50,
   "metadata": {
    "collapsed": false
   },
   "outputs": [
    {
     "name": "stdout",
     "output_type": "stream",
     "text": [
      "[(1, 'Biutiful'), (2, 'True Grit'), (3, 'The Social Network'), (4, \"The King's Speech\"), (5, '127 Hours')]\n",
      "[(1, 'Javier Bardem'), (2, 'Jeff Bridges'), (3, 'Jesse Eisenberg'), (4, 'Colin Firth'), (5, 'James Franco')]\n"
     ]
    }
   ],
   "source": [
    "insert_movies = \"INSERT INTO movies (Movies) SELECT DISTINCT movie FROM nominations;\"\n",
    "conn.execute(insert_movies)\n",
    "insert_actor = \"INSERT INTO actors (Actor) SELECT DISTINCT nominee FROM nominations;\"\n",
    "conn.execute(insert_actor)\n",
    "print(conn.execute(\"select * from movies limit 5;\").fetchall())\n",
    "print(conn.execute(\"select * from actors limit 5;\").fetchall())"
   ]
  },
  {
   "cell_type": "markdown",
   "metadata": {},
   "source": [
    "# Populating the movies_actors table"
   ]
  },
  {
   "cell_type": "code",
   "execution_count": 62,
   "metadata": {
    "collapsed": false
   },
   "outputs": [
    {
     "name": "stdout",
     "output_type": "stream",
     "text": [
      "[(1, 1, 1), (2, 2, 2), (3, 3, 3), (4, 4, 4), (5, 5, 5)]\n"
     ]
    }
   ],
   "source": [
    "get_movies_actors = \"SELECT movie, nominee FROM nominations\"\n",
    "get_movies_actors = conn.execute(get_movies_actors).fetchall()\n",
    "insert_movies_actors = \"insert into movies_actors (movie_id, actor_id) values ((select id from movies where Movies == ?),(select id from actors where Actor == ?));\"\n",
    "conn.executemany(insert_movies_actors, get_movies_actors)\n",
    "print(conn.execute(\"select * from movies_actors limit 5;\").fetchall())"
   ]
  },
  {
   "cell_type": "code",
   "execution_count": null,
   "metadata": {
    "collapsed": true
   },
   "outputs": [],
   "source": []
  }
 ],
 "metadata": {
  "kernelspec": {
   "display_name": "Python 3",
   "language": "python",
   "name": "python3"
  },
  "language_info": {
   "codemirror_mode": {
    "name": "ipython",
    "version": 3
   },
   "file_extension": ".py",
   "mimetype": "text/x-python",
   "name": "python",
   "nbconvert_exporter": "python",
   "pygments_lexer": "ipython3",
   "version": "3.6.0"
  }
 },
 "nbformat": 4,
 "nbformat_minor": 2
}
